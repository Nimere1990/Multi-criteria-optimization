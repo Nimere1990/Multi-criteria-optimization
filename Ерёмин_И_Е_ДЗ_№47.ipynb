{
  "nbformat": 4,
  "nbformat_minor": 0,
  "metadata": {
    "colab": {
      "provenance": [],
      "authorship_tag": "ABX9TyNOppZ8SXCeTaC/bZUeyrkw",
      "include_colab_link": true
    },
    "kernelspec": {
      "name": "python3",
      "display_name": "Python 3"
    },
    "language_info": {
      "name": "python"
    }
  },
  "cells": [
    {
      "cell_type": "markdown",
      "metadata": {
        "id": "view-in-github",
        "colab_type": "text"
      },
      "source": [
        "<a href=\"https://colab.research.google.com/github/Nimere1990/Multi-criteria-optimization/blob/main/%D0%95%D1%80%D1%91%D0%BC%D0%B8%D0%BD_%D0%98_%D0%95_%D0%94%D0%97_%E2%84%9647.ipynb\" target=\"_parent\"><img src=\"https://colab.research.google.com/assets/colab-badge.svg\" alt=\"Open In Colab\"/></a>"
      ]
    },
    {
      "cell_type": "markdown",
      "source": [
        "**1. Многокритериальная оптимизация**:\n",
        "   1. Реализуйте многокритериальную оптимизацию гиперпараметров нейронной сети, учитывая не только точность, но и время обучения.\n",
        "   2. Используйте метод весовых коэффициентов для объединения критериев."
      ],
      "metadata": {
        "id": "hdexVRHogHeA"
      }
    },
    {
      "cell_type": "code",
      "source": [
        "!pip install tensorflow\n",
        "!pip install keras"
      ],
      "metadata": {
        "colab": {
          "base_uri": "https://localhost:8080/"
        },
        "id": "H_saxPHMjwnl",
        "outputId": "3fcee358-f5b1-4cff-dbbb-ccf984b96290"
      },
      "execution_count": null,
      "outputs": [
        {
          "output_type": "stream",
          "name": "stdout",
          "text": [
            "Requirement already satisfied: tensorflow in /usr/local/lib/python3.10/dist-packages (2.17.1)\n",
            "Requirement already satisfied: absl-py>=1.0.0 in /usr/local/lib/python3.10/dist-packages (from tensorflow) (1.4.0)\n",
            "Requirement already satisfied: astunparse>=1.6.0 in /usr/local/lib/python3.10/dist-packages (from tensorflow) (1.6.3)\n",
            "Requirement already satisfied: flatbuffers>=24.3.25 in /usr/local/lib/python3.10/dist-packages (from tensorflow) (24.3.25)\n",
            "Requirement already satisfied: gast!=0.5.0,!=0.5.1,!=0.5.2,>=0.2.1 in /usr/local/lib/python3.10/dist-packages (from tensorflow) (0.6.0)\n",
            "Requirement already satisfied: google-pasta>=0.1.1 in /usr/local/lib/python3.10/dist-packages (from tensorflow) (0.2.0)\n",
            "Requirement already satisfied: h5py>=3.10.0 in /usr/local/lib/python3.10/dist-packages (from tensorflow) (3.12.1)\n",
            "Requirement already satisfied: libclang>=13.0.0 in /usr/local/lib/python3.10/dist-packages (from tensorflow) (18.1.1)\n",
            "Requirement already satisfied: ml-dtypes<0.5.0,>=0.3.1 in /usr/local/lib/python3.10/dist-packages (from tensorflow) (0.4.1)\n",
            "Requirement already satisfied: opt-einsum>=2.3.2 in /usr/local/lib/python3.10/dist-packages (from tensorflow) (3.4.0)\n",
            "Requirement already satisfied: packaging in /usr/local/lib/python3.10/dist-packages (from tensorflow) (24.2)\n",
            "Requirement already satisfied: protobuf!=4.21.0,!=4.21.1,!=4.21.2,!=4.21.3,!=4.21.4,!=4.21.5,<5.0.0dev,>=3.20.3 in /usr/local/lib/python3.10/dist-packages (from tensorflow) (4.25.5)\n",
            "Requirement already satisfied: requests<3,>=2.21.0 in /usr/local/lib/python3.10/dist-packages (from tensorflow) (2.32.3)\n",
            "Requirement already satisfied: setuptools in /usr/local/lib/python3.10/dist-packages (from tensorflow) (75.1.0)\n",
            "Requirement already satisfied: six>=1.12.0 in /usr/local/lib/python3.10/dist-packages (from tensorflow) (1.17.0)\n",
            "Requirement already satisfied: termcolor>=1.1.0 in /usr/local/lib/python3.10/dist-packages (from tensorflow) (2.5.0)\n",
            "Requirement already satisfied: typing-extensions>=3.6.6 in /usr/local/lib/python3.10/dist-packages (from tensorflow) (4.12.2)\n",
            "Requirement already satisfied: wrapt>=1.11.0 in /usr/local/lib/python3.10/dist-packages (from tensorflow) (1.17.0)\n",
            "Requirement already satisfied: grpcio<2.0,>=1.24.3 in /usr/local/lib/python3.10/dist-packages (from tensorflow) (1.68.1)\n",
            "Requirement already satisfied: tensorboard<2.18,>=2.17 in /usr/local/lib/python3.10/dist-packages (from tensorflow) (2.17.1)\n",
            "Requirement already satisfied: keras>=3.2.0 in /usr/local/lib/python3.10/dist-packages (from tensorflow) (3.5.0)\n",
            "Requirement already satisfied: tensorflow-io-gcs-filesystem>=0.23.1 in /usr/local/lib/python3.10/dist-packages (from tensorflow) (0.37.1)\n",
            "Requirement already satisfied: numpy<2.0.0,>=1.23.5 in /usr/local/lib/python3.10/dist-packages (from tensorflow) (1.26.4)\n",
            "Requirement already satisfied: wheel<1.0,>=0.23.0 in /usr/local/lib/python3.10/dist-packages (from astunparse>=1.6.0->tensorflow) (0.45.1)\n",
            "Requirement already satisfied: rich in /usr/local/lib/python3.10/dist-packages (from keras>=3.2.0->tensorflow) (13.9.4)\n",
            "Requirement already satisfied: namex in /usr/local/lib/python3.10/dist-packages (from keras>=3.2.0->tensorflow) (0.0.8)\n",
            "Requirement already satisfied: optree in /usr/local/lib/python3.10/dist-packages (from keras>=3.2.0->tensorflow) (0.13.1)\n",
            "Requirement already satisfied: charset-normalizer<4,>=2 in /usr/local/lib/python3.10/dist-packages (from requests<3,>=2.21.0->tensorflow) (3.4.0)\n",
            "Requirement already satisfied: idna<4,>=2.5 in /usr/local/lib/python3.10/dist-packages (from requests<3,>=2.21.0->tensorflow) (3.10)\n",
            "Requirement already satisfied: urllib3<3,>=1.21.1 in /usr/local/lib/python3.10/dist-packages (from requests<3,>=2.21.0->tensorflow) (2.2.3)\n",
            "Requirement already satisfied: certifi>=2017.4.17 in /usr/local/lib/python3.10/dist-packages (from requests<3,>=2.21.0->tensorflow) (2024.12.14)\n",
            "Requirement already satisfied: markdown>=2.6.8 in /usr/local/lib/python3.10/dist-packages (from tensorboard<2.18,>=2.17->tensorflow) (3.7)\n",
            "Requirement already satisfied: tensorboard-data-server<0.8.0,>=0.7.0 in /usr/local/lib/python3.10/dist-packages (from tensorboard<2.18,>=2.17->tensorflow) (0.7.2)\n",
            "Requirement already satisfied: werkzeug>=1.0.1 in /usr/local/lib/python3.10/dist-packages (from tensorboard<2.18,>=2.17->tensorflow) (3.1.3)\n",
            "Requirement already satisfied: MarkupSafe>=2.1.1 in /usr/local/lib/python3.10/dist-packages (from werkzeug>=1.0.1->tensorboard<2.18,>=2.17->tensorflow) (3.0.2)\n",
            "Requirement already satisfied: markdown-it-py>=2.2.0 in /usr/local/lib/python3.10/dist-packages (from rich->keras>=3.2.0->tensorflow) (3.0.0)\n",
            "Requirement already satisfied: pygments<3.0.0,>=2.13.0 in /usr/local/lib/python3.10/dist-packages (from rich->keras>=3.2.0->tensorflow) (2.18.0)\n",
            "Requirement already satisfied: mdurl~=0.1 in /usr/local/lib/python3.10/dist-packages (from markdown-it-py>=2.2.0->rich->keras>=3.2.0->tensorflow) (0.1.2)\n",
            "Requirement already satisfied: keras in /usr/local/lib/python3.10/dist-packages (3.5.0)\n",
            "Requirement already satisfied: absl-py in /usr/local/lib/python3.10/dist-packages (from keras) (1.4.0)\n",
            "Requirement already satisfied: numpy in /usr/local/lib/python3.10/dist-packages (from keras) (1.26.4)\n",
            "Requirement already satisfied: rich in /usr/local/lib/python3.10/dist-packages (from keras) (13.9.4)\n",
            "Requirement already satisfied: namex in /usr/local/lib/python3.10/dist-packages (from keras) (0.0.8)\n",
            "Requirement already satisfied: h5py in /usr/local/lib/python3.10/dist-packages (from keras) (3.12.1)\n",
            "Requirement already satisfied: optree in /usr/local/lib/python3.10/dist-packages (from keras) (0.13.1)\n",
            "Requirement already satisfied: ml-dtypes in /usr/local/lib/python3.10/dist-packages (from keras) (0.4.1)\n",
            "Requirement already satisfied: packaging in /usr/local/lib/python3.10/dist-packages (from keras) (24.2)\n",
            "Requirement already satisfied: typing-extensions>=4.5.0 in /usr/local/lib/python3.10/dist-packages (from optree->keras) (4.12.2)\n",
            "Requirement already satisfied: markdown-it-py>=2.2.0 in /usr/local/lib/python3.10/dist-packages (from rich->keras) (3.0.0)\n",
            "Requirement already satisfied: pygments<3.0.0,>=2.13.0 in /usr/local/lib/python3.10/dist-packages (from rich->keras) (2.18.0)\n",
            "Requirement already satisfied: mdurl~=0.1 in /usr/local/lib/python3.10/dist-packages (from markdown-it-py>=2.2.0->rich->keras) (0.1.2)\n"
          ]
        }
      ]
    },
    {
      "cell_type": "code",
      "source": [
        "import numpy as np\n",
        "import tensorflow as tf\n",
        "from sklearn.datasets import load_wine\n",
        "from sklearn.model_selection import train_test_split\n",
        "from sklearn.preprocessing import OneHotEncoder\n",
        "import time"
      ],
      "metadata": {
        "id": "e9CKqQWHi2Dz"
      },
      "execution_count": null,
      "outputs": []
    },
    {
      "cell_type": "code",
      "source": [
        "# 1. Загрузка и подготовка данных\n",
        "wine_data = load_wine()  # Загружаем набор данных Wine\n",
        "X = wine_data.data  # Извлекаем признаки (характеристики вин)\n",
        "y = wine_data.target.reshape(-1, 1)  # Извлекаем целевую переменную (категории вин) и преобразуем в столбец\n",
        "\n",
        "encoder = OneHotEncoder(sparse_output=False)  # Создаем объект кодировщика\n",
        "y = encoder.fit_transform(y)  # Преобразуем целевую переменную в \"горячий\" код\n",
        "\n",
        "# Разделяем данные на обучающую и тестовую выборки, оставляя 20% для тестирования\n",
        "X_train, X_test, y_train, y_test = train_test_split(X, y, test_size=0.2, random_state=42)"
      ],
      "metadata": {
        "id": "dNLOMxT2i5KQ"
      },
      "execution_count": null,
      "outputs": []
    },
    {
      "cell_type": "code",
      "source": [
        "# 2. Определение модели нейронной сети\n",
        "def create_model(neurons, learning_rate):\n",
        "    model = tf.keras.Sequential()  # Создаем последовательную модель нейронной сети\n",
        "    # Добавляем скрытый слой с заданным количеством нейронов и функцией активации ReLU\n",
        "    model.add(tf.keras.layers.Dense(neurons, input_dim=X_train.shape[1], activation='relu'))\n",
        "    # Добавляем выходной слой для многоклассовой классификации с функцией активации softmax\n",
        "    model.add(tf.keras.layers.Dense(y_train.shape[1], activation='softmax'))\n",
        "    # Компилируем модель, используя категориальную кросс-энтропию в качестве функции потерь и Adam в качестве оптимизатора\n",
        "    model.compile(loss='categorical_crossentropy', optimizer=tf.keras.optimizers.Adam(learning_rate=learning_rate), metrics=['accuracy'])\n",
        "    return model  # Возвращаем созданную модель"
      ],
      "metadata": {
        "id": "NoMNEaN3i8Gk"
      },
      "execution_count": null,
      "outputs": []
    },
    {
      "cell_type": "code",
      "source": [
        "# 3. Определение функции цели с учетом весов\n",
        "def objective_function(neurons, learning_rate):\n",
        "    start_time = time.time()  # Запоминаем время начала обучения\n",
        "\n",
        "    model = create_model(neurons, learning_rate)  # Создаем нейронную сеть с заданными гиперпараметрами\n",
        "    # Обучаем модель на обучающей выборке, скрывая вывод (verbose=0)\n",
        "    model.fit(X_train, y_train, epochs=50, batch_size=5, verbose=0)\n",
        "\n",
        "    # Получаем точность модели на тестовой выборке\n",
        "    accuracy = model.evaluate(X_test, y_test, verbose=0)[1]\n",
        "\n",
        "    elapsed_time = time.time() - start_time  # Вычисляем время, потраченное на обучение\n",
        "\n",
        "    # Объединение критериев: 70% на точность и 30% на время\n",
        "    combined_metric = 0.7 * accuracy - 0.3 * (elapsed_time / 20)  # Нормализуем время\n",
        "    return combined_metric  # Возвращаем комбинированную метрику"
      ],
      "metadata": {
        "id": "M_vaNwVWi-ia"
      },
      "execution_count": null,
      "outputs": []
    },
    {
      "cell_type": "code",
      "source": [
        "# 4. Реализация простого генетического алгоритма\n",
        "def genetic_algorithm(pop_size, generations):\n",
        "    # Инициализация популяции с произвольными значениями нейронов и скорости обучения\n",
        "    population = [(np.random.randint(5, 50), np.random.uniform(0.001, 0.1)) for _ in range(pop_size)]\n",
        "\n",
        "    best_individual = None  # Переменная для хранения лучших индивидуумов\n",
        "    best_score = -np.inf  # Начальное значение для лучшей оценки\n",
        "\n",
        "    # Основной цикл по поколениям\n",
        "    for generation in range(generations):\n",
        "        print(f\"Поколение {generation + 1}/{generations}\")  # Информируем о текущем поколении\n",
        "        scores = []  # Список для хранения оценок каждого индивидуумa\n",
        "\n",
        "        # Оценка индивидов в популяции\n",
        "        for individual in population:\n",
        "            neurons, learning_rate = individual  # Распаковываем параметры индивидуумa\n",
        "            score = objective_function(neurons, learning_rate)  # Получаем комбинированную оценку\n",
        "            scores.append(score)  # Сохраняем оценку индивидуумa\n",
        "\n",
        "            # Проверяем, является ли текущая оценка лучшей\n",
        "            if score > best_score:\n",
        "                best_score = score  # Обновляем лучшую оценку\n",
        "                best_individual = individual  # Сохраняем лучшие параметры\n",
        "\n",
        "        # Создание новой популяции\n",
        "        # Сортируем популяцию по оценкам и выбираем лучших\n",
        "        ranked_population = [ind for _, ind in sorted(zip(scores, population), key=lambda x: x[0], reverse=True)]\n",
        "        population = []  # Очистка списка для новой популяции\n",
        "\n",
        "        # Выбор лучших индивидуумов для создания новой популяции\n",
        "        for i in range(pop_size // 2):\n",
        "            parent1 = ranked_population[i]  # Первый родитель\n",
        "            parent2 = ranked_population[i + 1]  # Второй родитель\n",
        "\n",
        "            # Кроссовер для создания новых индивидуумов\n",
        "            child1_neurons = parent1[0]\n",
        "            child2_neurons = parent2[0]\n",
        "            if np.random.rand() < 0.5:  # Вероятность кроссовера\n",
        "                child1_neurons = parent2[0]  # Меняем количество нейронов первого родителя\n",
        "                child2_neurons = parent1[0]  # Меняем количество нейронов второго родителя\n",
        "\n",
        "            # Мутация для изменения скорости обучения\n",
        "            child1_learning_rate = parent1[1] + np.random.uniform(-0.01, 0.01)\n",
        "            child2_learning_rate = parent2[1] + np.random.uniform(-0.01, 0.01)\n",
        "\n",
        "            # Ограничиваем значения для детей\n",
        "            child1 = (max(5, min(50, child1_neurons)), max(0.001, min(0.1, child1_learning_rate)))\n",
        "            child2 = (max(5, min(50, child2_neurons)), max(0.001, min(0.1, child2_learning_rate)))\n",
        "            population.extend([child1, child2])  # Добавляем детей в новую популяцию\n",
        "\n",
        "    return best_individual, best_score  # Возвращаем лучшие параметры и лучшую оценку"
      ],
      "metadata": {
        "id": "8LrBMveLHIFx"
      },
      "execution_count": null,
      "outputs": []
    },
    {
      "cell_type": "code",
      "source": [
        "# 5. Оптимизация гиперпараметров\n",
        "best_individual, best_score = genetic_algorithm(pop_size=10, generations=10)  # Запускаем генетический алгоритм\n",
        "\n",
        "# Выводим лучшие гиперпараметры и их оценку\n",
        "print(\"Лучшие гиперпараметры: Нейронов: {}, Скорость обучения: {:.4f}, Оценка: {:.4f}\".format(int(best_individual[0]), best_individual[1], best_score))\n"
      ],
      "metadata": {
        "colab": {
          "base_uri": "https://localhost:8080/"
        },
        "id": "QViW62OTjDEp",
        "outputId": "d39292c2-e8a2-4cb1-e263-3ff39f1e1a3a"
      },
      "execution_count": null,
      "outputs": [
        {
          "output_type": "stream",
          "name": "stdout",
          "text": [
            "Поколение 1/10\n"
          ]
        },
        {
          "output_type": "stream",
          "name": "stderr",
          "text": [
            "/usr/local/lib/python3.10/dist-packages/keras/src/layers/core/dense.py:87: UserWarning: Do not pass an `input_shape`/`input_dim` argument to a layer. When using Sequential models, prefer using an `Input(shape)` object as the first layer in the model instead.\n",
            "  super().__init__(activity_regularizer=activity_regularizer, **kwargs)\n"
          ]
        },
        {
          "output_type": "stream",
          "name": "stdout",
          "text": [
            "Поколение 2/10\n",
            "Поколение 3/10\n",
            "Поколение 4/10\n",
            "Поколение 5/10\n",
            "Поколение 6/10\n",
            "Поколение 7/10\n",
            "Поколение 8/10\n",
            "Поколение 9/10\n",
            "Поколение 10/10\n",
            "Лучшие гиперпараметры: Нейронов: 18, Скорость обучения: 0.0179, Оценка: 0.6411\n"
          ]
        }
      ]
    }
  ]
}